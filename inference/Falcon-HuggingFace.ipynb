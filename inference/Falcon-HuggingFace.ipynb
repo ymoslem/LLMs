{
  "nbformat": 4,
  "nbformat_minor": 0,
  "metadata": {
    "colab": {
      "provenance": [],
      "gpuType": "A100",
      "machine_shape": "hm",
      "mount_file_id": "1IuoFVlW5qtxastOCEMOqM1-IR6Ul1Se9",
      "authorship_tag": "ABX9TyMgcXZKBcG6Tl2LyfD5oWlS",
      "include_colab_link": true
    },
    "kernelspec": {
      "name": "python3",
      "display_name": "Python 3"
    },
    "language_info": {
      "name": "python"
    },
    "accelerator": "GPU",
    "widgets": {
      "application/vnd.jupyter.widget-state+json": {
        "72b3cb47ce794901a0141b9b50238502": {
          "model_module": "@jupyter-widgets/controls",
          "model_name": "HBoxModel",
          "model_module_version": "1.5.0",
          "state": {
            "_dom_classes": [],
            "_model_module": "@jupyter-widgets/controls",
            "_model_module_version": "1.5.0",
            "_model_name": "HBoxModel",
            "_view_count": null,
            "_view_module": "@jupyter-widgets/controls",
            "_view_module_version": "1.5.0",
            "_view_name": "HBoxView",
            "box_style": "",
            "children": [
              "IPY_MODEL_9caf1e3d3f13470682f5692af109f0e0",
              "IPY_MODEL_171a8fca63f347708044fbb28bb869cc",
              "IPY_MODEL_d17a737a76fd4a6393bb775cb6e53f55"
            ],
            "layout": "IPY_MODEL_d4662f53875c47b4a9ff5a39822cd546"
          }
        },
        "9caf1e3d3f13470682f5692af109f0e0": {
          "model_module": "@jupyter-widgets/controls",
          "model_name": "HTMLModel",
          "model_module_version": "1.5.0",
          "state": {
            "_dom_classes": [],
            "_model_module": "@jupyter-widgets/controls",
            "_model_module_version": "1.5.0",
            "_model_name": "HTMLModel",
            "_view_count": null,
            "_view_module": "@jupyter-widgets/controls",
            "_view_module_version": "1.5.0",
            "_view_name": "HTMLView",
            "description": "",
            "description_tooltip": null,
            "layout": "IPY_MODEL_3b5a04a954754f089a39b9bbcb2d131b",
            "placeholder": "​",
            "style": "IPY_MODEL_2364af64995e47179850641f278c415a",
            "value": "Loading checkpoint shards: 100%"
          }
        },
        "171a8fca63f347708044fbb28bb869cc": {
          "model_module": "@jupyter-widgets/controls",
          "model_name": "FloatProgressModel",
          "model_module_version": "1.5.0",
          "state": {
            "_dom_classes": [],
            "_model_module": "@jupyter-widgets/controls",
            "_model_module_version": "1.5.0",
            "_model_name": "FloatProgressModel",
            "_view_count": null,
            "_view_module": "@jupyter-widgets/controls",
            "_view_module_version": "1.5.0",
            "_view_name": "ProgressView",
            "bar_style": "success",
            "description": "",
            "description_tooltip": null,
            "layout": "IPY_MODEL_1e0c2539acd14a4dbce29f855153989b",
            "max": 9,
            "min": 0,
            "orientation": "horizontal",
            "style": "IPY_MODEL_45dd47a0163049919498f88dcc6100e9",
            "value": 9
          }
        },
        "d17a737a76fd4a6393bb775cb6e53f55": {
          "model_module": "@jupyter-widgets/controls",
          "model_name": "HTMLModel",
          "model_module_version": "1.5.0",
          "state": {
            "_dom_classes": [],
            "_model_module": "@jupyter-widgets/controls",
            "_model_module_version": "1.5.0",
            "_model_name": "HTMLModel",
            "_view_count": null,
            "_view_module": "@jupyter-widgets/controls",
            "_view_module_version": "1.5.0",
            "_view_name": "HTMLView",
            "description": "",
            "description_tooltip": null,
            "layout": "IPY_MODEL_8287039be5f745859848dec2cce5390a",
            "placeholder": "​",
            "style": "IPY_MODEL_89fd2da402844df69f825620631ce50d",
            "value": " 9/9 [18:19&lt;00:00, 118.04s/it]"
          }
        },
        "d4662f53875c47b4a9ff5a39822cd546": {
          "model_module": "@jupyter-widgets/base",
          "model_name": "LayoutModel",
          "model_module_version": "1.2.0",
          "state": {
            "_model_module": "@jupyter-widgets/base",
            "_model_module_version": "1.2.0",
            "_model_name": "LayoutModel",
            "_view_count": null,
            "_view_module": "@jupyter-widgets/base",
            "_view_module_version": "1.2.0",
            "_view_name": "LayoutView",
            "align_content": null,
            "align_items": null,
            "align_self": null,
            "border": null,
            "bottom": null,
            "display": null,
            "flex": null,
            "flex_flow": null,
            "grid_area": null,
            "grid_auto_columns": null,
            "grid_auto_flow": null,
            "grid_auto_rows": null,
            "grid_column": null,
            "grid_gap": null,
            "grid_row": null,
            "grid_template_areas": null,
            "grid_template_columns": null,
            "grid_template_rows": null,
            "height": null,
            "justify_content": null,
            "justify_items": null,
            "left": null,
            "margin": null,
            "max_height": null,
            "max_width": null,
            "min_height": null,
            "min_width": null,
            "object_fit": null,
            "object_position": null,
            "order": null,
            "overflow": null,
            "overflow_x": null,
            "overflow_y": null,
            "padding": null,
            "right": null,
            "top": null,
            "visibility": null,
            "width": null
          }
        },
        "3b5a04a954754f089a39b9bbcb2d131b": {
          "model_module": "@jupyter-widgets/base",
          "model_name": "LayoutModel",
          "model_module_version": "1.2.0",
          "state": {
            "_model_module": "@jupyter-widgets/base",
            "_model_module_version": "1.2.0",
            "_model_name": "LayoutModel",
            "_view_count": null,
            "_view_module": "@jupyter-widgets/base",
            "_view_module_version": "1.2.0",
            "_view_name": "LayoutView",
            "align_content": null,
            "align_items": null,
            "align_self": null,
            "border": null,
            "bottom": null,
            "display": null,
            "flex": null,
            "flex_flow": null,
            "grid_area": null,
            "grid_auto_columns": null,
            "grid_auto_flow": null,
            "grid_auto_rows": null,
            "grid_column": null,
            "grid_gap": null,
            "grid_row": null,
            "grid_template_areas": null,
            "grid_template_columns": null,
            "grid_template_rows": null,
            "height": null,
            "justify_content": null,
            "justify_items": null,
            "left": null,
            "margin": null,
            "max_height": null,
            "max_width": null,
            "min_height": null,
            "min_width": null,
            "object_fit": null,
            "object_position": null,
            "order": null,
            "overflow": null,
            "overflow_x": null,
            "overflow_y": null,
            "padding": null,
            "right": null,
            "top": null,
            "visibility": null,
            "width": null
          }
        },
        "2364af64995e47179850641f278c415a": {
          "model_module": "@jupyter-widgets/controls",
          "model_name": "DescriptionStyleModel",
          "model_module_version": "1.5.0",
          "state": {
            "_model_module": "@jupyter-widgets/controls",
            "_model_module_version": "1.5.0",
            "_model_name": "DescriptionStyleModel",
            "_view_count": null,
            "_view_module": "@jupyter-widgets/base",
            "_view_module_version": "1.2.0",
            "_view_name": "StyleView",
            "description_width": ""
          }
        },
        "1e0c2539acd14a4dbce29f855153989b": {
          "model_module": "@jupyter-widgets/base",
          "model_name": "LayoutModel",
          "model_module_version": "1.2.0",
          "state": {
            "_model_module": "@jupyter-widgets/base",
            "_model_module_version": "1.2.0",
            "_model_name": "LayoutModel",
            "_view_count": null,
            "_view_module": "@jupyter-widgets/base",
            "_view_module_version": "1.2.0",
            "_view_name": "LayoutView",
            "align_content": null,
            "align_items": null,
            "align_self": null,
            "border": null,
            "bottom": null,
            "display": null,
            "flex": null,
            "flex_flow": null,
            "grid_area": null,
            "grid_auto_columns": null,
            "grid_auto_flow": null,
            "grid_auto_rows": null,
            "grid_column": null,
            "grid_gap": null,
            "grid_row": null,
            "grid_template_areas": null,
            "grid_template_columns": null,
            "grid_template_rows": null,
            "height": null,
            "justify_content": null,
            "justify_items": null,
            "left": null,
            "margin": null,
            "max_height": null,
            "max_width": null,
            "min_height": null,
            "min_width": null,
            "object_fit": null,
            "object_position": null,
            "order": null,
            "overflow": null,
            "overflow_x": null,
            "overflow_y": null,
            "padding": null,
            "right": null,
            "top": null,
            "visibility": null,
            "width": null
          }
        },
        "45dd47a0163049919498f88dcc6100e9": {
          "model_module": "@jupyter-widgets/controls",
          "model_name": "ProgressStyleModel",
          "model_module_version": "1.5.0",
          "state": {
            "_model_module": "@jupyter-widgets/controls",
            "_model_module_version": "1.5.0",
            "_model_name": "ProgressStyleModel",
            "_view_count": null,
            "_view_module": "@jupyter-widgets/base",
            "_view_module_version": "1.2.0",
            "_view_name": "StyleView",
            "bar_color": null,
            "description_width": ""
          }
        },
        "8287039be5f745859848dec2cce5390a": {
          "model_module": "@jupyter-widgets/base",
          "model_name": "LayoutModel",
          "model_module_version": "1.2.0",
          "state": {
            "_model_module": "@jupyter-widgets/base",
            "_model_module_version": "1.2.0",
            "_model_name": "LayoutModel",
            "_view_count": null,
            "_view_module": "@jupyter-widgets/base",
            "_view_module_version": "1.2.0",
            "_view_name": "LayoutView",
            "align_content": null,
            "align_items": null,
            "align_self": null,
            "border": null,
            "bottom": null,
            "display": null,
            "flex": null,
            "flex_flow": null,
            "grid_area": null,
            "grid_auto_columns": null,
            "grid_auto_flow": null,
            "grid_auto_rows": null,
            "grid_column": null,
            "grid_gap": null,
            "grid_row": null,
            "grid_template_areas": null,
            "grid_template_columns": null,
            "grid_template_rows": null,
            "height": null,
            "justify_content": null,
            "justify_items": null,
            "left": null,
            "margin": null,
            "max_height": null,
            "max_width": null,
            "min_height": null,
            "min_width": null,
            "object_fit": null,
            "object_position": null,
            "order": null,
            "overflow": null,
            "overflow_x": null,
            "overflow_y": null,
            "padding": null,
            "right": null,
            "top": null,
            "visibility": null,
            "width": null
          }
        },
        "89fd2da402844df69f825620631ce50d": {
          "model_module": "@jupyter-widgets/controls",
          "model_name": "DescriptionStyleModel",
          "model_module_version": "1.5.0",
          "state": {
            "_model_module": "@jupyter-widgets/controls",
            "_model_module_version": "1.5.0",
            "_model_name": "DescriptionStyleModel",
            "_view_count": null,
            "_view_module": "@jupyter-widgets/base",
            "_view_module_version": "1.2.0",
            "_view_name": "StyleView",
            "description_width": ""
          }
        },
        "81b8745365234df0880521c47891f38d": {
          "model_module": "@jupyter-widgets/controls",
          "model_name": "HBoxModel",
          "model_module_version": "1.5.0",
          "state": {
            "_dom_classes": [],
            "_model_module": "@jupyter-widgets/controls",
            "_model_module_version": "1.5.0",
            "_model_name": "HBoxModel",
            "_view_count": null,
            "_view_module": "@jupyter-widgets/controls",
            "_view_module_version": "1.5.0",
            "_view_name": "HBoxView",
            "box_style": "",
            "children": [
              "IPY_MODEL_9e64ef3969614338973484373e03a9cc",
              "IPY_MODEL_3c694009a55e40f0953bf237b9290d93",
              "IPY_MODEL_d49ae011edf74fa3bdb98c6f5f3c6a5e"
            ],
            "layout": "IPY_MODEL_3df25dbf85b349f78c953b34db1453e0"
          }
        },
        "9e64ef3969614338973484373e03a9cc": {
          "model_module": "@jupyter-widgets/controls",
          "model_name": "HTMLModel",
          "model_module_version": "1.5.0",
          "state": {
            "_dom_classes": [],
            "_model_module": "@jupyter-widgets/controls",
            "_model_module_version": "1.5.0",
            "_model_name": "HTMLModel",
            "_view_count": null,
            "_view_module": "@jupyter-widgets/controls",
            "_view_module_version": "1.5.0",
            "_view_name": "HTMLView",
            "description": "",
            "description_tooltip": null,
            "layout": "IPY_MODEL_578f5d445db548d4a7a548a89d40b6e5",
            "placeholder": "​",
            "style": "IPY_MODEL_44c85316df144307a956fb41339958ac",
            "value": "Downloading (…)okenizer_config.json: 100%"
          }
        },
        "3c694009a55e40f0953bf237b9290d93": {
          "model_module": "@jupyter-widgets/controls",
          "model_name": "FloatProgressModel",
          "model_module_version": "1.5.0",
          "state": {
            "_dom_classes": [],
            "_model_module": "@jupyter-widgets/controls",
            "_model_module_version": "1.5.0",
            "_model_name": "FloatProgressModel",
            "_view_count": null,
            "_view_module": "@jupyter-widgets/controls",
            "_view_module_version": "1.5.0",
            "_view_name": "ProgressView",
            "bar_style": "success",
            "description": "",
            "description_tooltip": null,
            "layout": "IPY_MODEL_db4dca7d65964a47a7854f3774ea6da3",
            "max": 220,
            "min": 0,
            "orientation": "horizontal",
            "style": "IPY_MODEL_302cd9580b87494981c924d6703b5b2b",
            "value": 220
          }
        },
        "d49ae011edf74fa3bdb98c6f5f3c6a5e": {
          "model_module": "@jupyter-widgets/controls",
          "model_name": "HTMLModel",
          "model_module_version": "1.5.0",
          "state": {
            "_dom_classes": [],
            "_model_module": "@jupyter-widgets/controls",
            "_model_module_version": "1.5.0",
            "_model_name": "HTMLModel",
            "_view_count": null,
            "_view_module": "@jupyter-widgets/controls",
            "_view_module_version": "1.5.0",
            "_view_name": "HTMLView",
            "description": "",
            "description_tooltip": null,
            "layout": "IPY_MODEL_fdf539674b4949e49088c8ae9609ddb7",
            "placeholder": "​",
            "style": "IPY_MODEL_1970a1ba5395483098db53ad4a7cbb00",
            "value": " 220/220 [00:00&lt;00:00, 19.6kB/s]"
          }
        },
        "3df25dbf85b349f78c953b34db1453e0": {
          "model_module": "@jupyter-widgets/base",
          "model_name": "LayoutModel",
          "model_module_version": "1.2.0",
          "state": {
            "_model_module": "@jupyter-widgets/base",
            "_model_module_version": "1.2.0",
            "_model_name": "LayoutModel",
            "_view_count": null,
            "_view_module": "@jupyter-widgets/base",
            "_view_module_version": "1.2.0",
            "_view_name": "LayoutView",
            "align_content": null,
            "align_items": null,
            "align_self": null,
            "border": null,
            "bottom": null,
            "display": null,
            "flex": null,
            "flex_flow": null,
            "grid_area": null,
            "grid_auto_columns": null,
            "grid_auto_flow": null,
            "grid_auto_rows": null,
            "grid_column": null,
            "grid_gap": null,
            "grid_row": null,
            "grid_template_areas": null,
            "grid_template_columns": null,
            "grid_template_rows": null,
            "height": null,
            "justify_content": null,
            "justify_items": null,
            "left": null,
            "margin": null,
            "max_height": null,
            "max_width": null,
            "min_height": null,
            "min_width": null,
            "object_fit": null,
            "object_position": null,
            "order": null,
            "overflow": null,
            "overflow_x": null,
            "overflow_y": null,
            "padding": null,
            "right": null,
            "top": null,
            "visibility": null,
            "width": null
          }
        },
        "578f5d445db548d4a7a548a89d40b6e5": {
          "model_module": "@jupyter-widgets/base",
          "model_name": "LayoutModel",
          "model_module_version": "1.2.0",
          "state": {
            "_model_module": "@jupyter-widgets/base",
            "_model_module_version": "1.2.0",
            "_model_name": "LayoutModel",
            "_view_count": null,
            "_view_module": "@jupyter-widgets/base",
            "_view_module_version": "1.2.0",
            "_view_name": "LayoutView",
            "align_content": null,
            "align_items": null,
            "align_self": null,
            "border": null,
            "bottom": null,
            "display": null,
            "flex": null,
            "flex_flow": null,
            "grid_area": null,
            "grid_auto_columns": null,
            "grid_auto_flow": null,
            "grid_auto_rows": null,
            "grid_column": null,
            "grid_gap": null,
            "grid_row": null,
            "grid_template_areas": null,
            "grid_template_columns": null,
            "grid_template_rows": null,
            "height": null,
            "justify_content": null,
            "justify_items": null,
            "left": null,
            "margin": null,
            "max_height": null,
            "max_width": null,
            "min_height": null,
            "min_width": null,
            "object_fit": null,
            "object_position": null,
            "order": null,
            "overflow": null,
            "overflow_x": null,
            "overflow_y": null,
            "padding": null,
            "right": null,
            "top": null,
            "visibility": null,
            "width": null
          }
        },
        "44c85316df144307a956fb41339958ac": {
          "model_module": "@jupyter-widgets/controls",
          "model_name": "DescriptionStyleModel",
          "model_module_version": "1.5.0",
          "state": {
            "_model_module": "@jupyter-widgets/controls",
            "_model_module_version": "1.5.0",
            "_model_name": "DescriptionStyleModel",
            "_view_count": null,
            "_view_module": "@jupyter-widgets/base",
            "_view_module_version": "1.2.0",
            "_view_name": "StyleView",
            "description_width": ""
          }
        },
        "db4dca7d65964a47a7854f3774ea6da3": {
          "model_module": "@jupyter-widgets/base",
          "model_name": "LayoutModel",
          "model_module_version": "1.2.0",
          "state": {
            "_model_module": "@jupyter-widgets/base",
            "_model_module_version": "1.2.0",
            "_model_name": "LayoutModel",
            "_view_count": null,
            "_view_module": "@jupyter-widgets/base",
            "_view_module_version": "1.2.0",
            "_view_name": "LayoutView",
            "align_content": null,
            "align_items": null,
            "align_self": null,
            "border": null,
            "bottom": null,
            "display": null,
            "flex": null,
            "flex_flow": null,
            "grid_area": null,
            "grid_auto_columns": null,
            "grid_auto_flow": null,
            "grid_auto_rows": null,
            "grid_column": null,
            "grid_gap": null,
            "grid_row": null,
            "grid_template_areas": null,
            "grid_template_columns": null,
            "grid_template_rows": null,
            "height": null,
            "justify_content": null,
            "justify_items": null,
            "left": null,
            "margin": null,
            "max_height": null,
            "max_width": null,
            "min_height": null,
            "min_width": null,
            "object_fit": null,
            "object_position": null,
            "order": null,
            "overflow": null,
            "overflow_x": null,
            "overflow_y": null,
            "padding": null,
            "right": null,
            "top": null,
            "visibility": null,
            "width": null
          }
        },
        "302cd9580b87494981c924d6703b5b2b": {
          "model_module": "@jupyter-widgets/controls",
          "model_name": "ProgressStyleModel",
          "model_module_version": "1.5.0",
          "state": {
            "_model_module": "@jupyter-widgets/controls",
            "_model_module_version": "1.5.0",
            "_model_name": "ProgressStyleModel",
            "_view_count": null,
            "_view_module": "@jupyter-widgets/base",
            "_view_module_version": "1.2.0",
            "_view_name": "StyleView",
            "bar_color": null,
            "description_width": ""
          }
        },
        "fdf539674b4949e49088c8ae9609ddb7": {
          "model_module": "@jupyter-widgets/base",
          "model_name": "LayoutModel",
          "model_module_version": "1.2.0",
          "state": {
            "_model_module": "@jupyter-widgets/base",
            "_model_module_version": "1.2.0",
            "_model_name": "LayoutModel",
            "_view_count": null,
            "_view_module": "@jupyter-widgets/base",
            "_view_module_version": "1.2.0",
            "_view_name": "LayoutView",
            "align_content": null,
            "align_items": null,
            "align_self": null,
            "border": null,
            "bottom": null,
            "display": null,
            "flex": null,
            "flex_flow": null,
            "grid_area": null,
            "grid_auto_columns": null,
            "grid_auto_flow": null,
            "grid_auto_rows": null,
            "grid_column": null,
            "grid_gap": null,
            "grid_row": null,
            "grid_template_areas": null,
            "grid_template_columns": null,
            "grid_template_rows": null,
            "height": null,
            "justify_content": null,
            "justify_items": null,
            "left": null,
            "margin": null,
            "max_height": null,
            "max_width": null,
            "min_height": null,
            "min_width": null,
            "object_fit": null,
            "object_position": null,
            "order": null,
            "overflow": null,
            "overflow_x": null,
            "overflow_y": null,
            "padding": null,
            "right": null,
            "top": null,
            "visibility": null,
            "width": null
          }
        },
        "1970a1ba5395483098db53ad4a7cbb00": {
          "model_module": "@jupyter-widgets/controls",
          "model_name": "DescriptionStyleModel",
          "model_module_version": "1.5.0",
          "state": {
            "_model_module": "@jupyter-widgets/controls",
            "_model_module_version": "1.5.0",
            "_model_name": "DescriptionStyleModel",
            "_view_count": null,
            "_view_module": "@jupyter-widgets/base",
            "_view_module_version": "1.2.0",
            "_view_name": "StyleView",
            "description_width": ""
          }
        },
        "3c9aedf16c7b440db0758b1716ec53aa": {
          "model_module": "@jupyter-widgets/controls",
          "model_name": "HBoxModel",
          "model_module_version": "1.5.0",
          "state": {
            "_dom_classes": [],
            "_model_module": "@jupyter-widgets/controls",
            "_model_module_version": "1.5.0",
            "_model_name": "HBoxModel",
            "_view_count": null,
            "_view_module": "@jupyter-widgets/controls",
            "_view_module_version": "1.5.0",
            "_view_name": "HBoxView",
            "box_style": "",
            "children": [
              "IPY_MODEL_e8b4c7074b6b4021aaf373d5c4a29289",
              "IPY_MODEL_d244a8ba3a1040dd93caa74a0eca8795",
              "IPY_MODEL_1d86aa894c1a46429915b31ad784634d"
            ],
            "layout": "IPY_MODEL_f122a5139cc344b08d31a94bdd0c901a"
          }
        },
        "e8b4c7074b6b4021aaf373d5c4a29289": {
          "model_module": "@jupyter-widgets/controls",
          "model_name": "HTMLModel",
          "model_module_version": "1.5.0",
          "state": {
            "_dom_classes": [],
            "_model_module": "@jupyter-widgets/controls",
            "_model_module_version": "1.5.0",
            "_model_name": "HTMLModel",
            "_view_count": null,
            "_view_module": "@jupyter-widgets/controls",
            "_view_module_version": "1.5.0",
            "_view_name": "HTMLView",
            "description": "",
            "description_tooltip": null,
            "layout": "IPY_MODEL_6b9845b8982d48cab4320c4329ff002e",
            "placeholder": "​",
            "style": "IPY_MODEL_ccc486c8434d4f68978003f395ca0a72",
            "value": "Downloading (…)/main/tokenizer.json: 100%"
          }
        },
        "d244a8ba3a1040dd93caa74a0eca8795": {
          "model_module": "@jupyter-widgets/controls",
          "model_name": "FloatProgressModel",
          "model_module_version": "1.5.0",
          "state": {
            "_dom_classes": [],
            "_model_module": "@jupyter-widgets/controls",
            "_model_module_version": "1.5.0",
            "_model_name": "FloatProgressModel",
            "_view_count": null,
            "_view_module": "@jupyter-widgets/controls",
            "_view_module_version": "1.5.0",
            "_view_name": "ProgressView",
            "bar_style": "success",
            "description": "",
            "description_tooltip": null,
            "layout": "IPY_MODEL_f558114e217a4962ad67fe1c7210aadb",
            "max": 2734130,
            "min": 0,
            "orientation": "horizontal",
            "style": "IPY_MODEL_0b7668f9f3a54ad3b1bfbb177448b680",
            "value": 2734130
          }
        },
        "1d86aa894c1a46429915b31ad784634d": {
          "model_module": "@jupyter-widgets/controls",
          "model_name": "HTMLModel",
          "model_module_version": "1.5.0",
          "state": {
            "_dom_classes": [],
            "_model_module": "@jupyter-widgets/controls",
            "_model_module_version": "1.5.0",
            "_model_name": "HTMLModel",
            "_view_count": null,
            "_view_module": "@jupyter-widgets/controls",
            "_view_module_version": "1.5.0",
            "_view_name": "HTMLView",
            "description": "",
            "description_tooltip": null,
            "layout": "IPY_MODEL_b96dd90302d94392a7b7973dc3603fba",
            "placeholder": "​",
            "style": "IPY_MODEL_e32cd013cc4a4c519c0ab820b666fb68",
            "value": " 2.73M/2.73M [00:00&lt;00:00, 3.27MB/s]"
          }
        },
        "f122a5139cc344b08d31a94bdd0c901a": {
          "model_module": "@jupyter-widgets/base",
          "model_name": "LayoutModel",
          "model_module_version": "1.2.0",
          "state": {
            "_model_module": "@jupyter-widgets/base",
            "_model_module_version": "1.2.0",
            "_model_name": "LayoutModel",
            "_view_count": null,
            "_view_module": "@jupyter-widgets/base",
            "_view_module_version": "1.2.0",
            "_view_name": "LayoutView",
            "align_content": null,
            "align_items": null,
            "align_self": null,
            "border": null,
            "bottom": null,
            "display": null,
            "flex": null,
            "flex_flow": null,
            "grid_area": null,
            "grid_auto_columns": null,
            "grid_auto_flow": null,
            "grid_auto_rows": null,
            "grid_column": null,
            "grid_gap": null,
            "grid_row": null,
            "grid_template_areas": null,
            "grid_template_columns": null,
            "grid_template_rows": null,
            "height": null,
            "justify_content": null,
            "justify_items": null,
            "left": null,
            "margin": null,
            "max_height": null,
            "max_width": null,
            "min_height": null,
            "min_width": null,
            "object_fit": null,
            "object_position": null,
            "order": null,
            "overflow": null,
            "overflow_x": null,
            "overflow_y": null,
            "padding": null,
            "right": null,
            "top": null,
            "visibility": null,
            "width": null
          }
        },
        "6b9845b8982d48cab4320c4329ff002e": {
          "model_module": "@jupyter-widgets/base",
          "model_name": "LayoutModel",
          "model_module_version": "1.2.0",
          "state": {
            "_model_module": "@jupyter-widgets/base",
            "_model_module_version": "1.2.0",
            "_model_name": "LayoutModel",
            "_view_count": null,
            "_view_module": "@jupyter-widgets/base",
            "_view_module_version": "1.2.0",
            "_view_name": "LayoutView",
            "align_content": null,
            "align_items": null,
            "align_self": null,
            "border": null,
            "bottom": null,
            "display": null,
            "flex": null,
            "flex_flow": null,
            "grid_area": null,
            "grid_auto_columns": null,
            "grid_auto_flow": null,
            "grid_auto_rows": null,
            "grid_column": null,
            "grid_gap": null,
            "grid_row": null,
            "grid_template_areas": null,
            "grid_template_columns": null,
            "grid_template_rows": null,
            "height": null,
            "justify_content": null,
            "justify_items": null,
            "left": null,
            "margin": null,
            "max_height": null,
            "max_width": null,
            "min_height": null,
            "min_width": null,
            "object_fit": null,
            "object_position": null,
            "order": null,
            "overflow": null,
            "overflow_x": null,
            "overflow_y": null,
            "padding": null,
            "right": null,
            "top": null,
            "visibility": null,
            "width": null
          }
        },
        "ccc486c8434d4f68978003f395ca0a72": {
          "model_module": "@jupyter-widgets/controls",
          "model_name": "DescriptionStyleModel",
          "model_module_version": "1.5.0",
          "state": {
            "_model_module": "@jupyter-widgets/controls",
            "_model_module_version": "1.5.0",
            "_model_name": "DescriptionStyleModel",
            "_view_count": null,
            "_view_module": "@jupyter-widgets/base",
            "_view_module_version": "1.2.0",
            "_view_name": "StyleView",
            "description_width": ""
          }
        },
        "f558114e217a4962ad67fe1c7210aadb": {
          "model_module": "@jupyter-widgets/base",
          "model_name": "LayoutModel",
          "model_module_version": "1.2.0",
          "state": {
            "_model_module": "@jupyter-widgets/base",
            "_model_module_version": "1.2.0",
            "_model_name": "LayoutModel",
            "_view_count": null,
            "_view_module": "@jupyter-widgets/base",
            "_view_module_version": "1.2.0",
            "_view_name": "LayoutView",
            "align_content": null,
            "align_items": null,
            "align_self": null,
            "border": null,
            "bottom": null,
            "display": null,
            "flex": null,
            "flex_flow": null,
            "grid_area": null,
            "grid_auto_columns": null,
            "grid_auto_flow": null,
            "grid_auto_rows": null,
            "grid_column": null,
            "grid_gap": null,
            "grid_row": null,
            "grid_template_areas": null,
            "grid_template_columns": null,
            "grid_template_rows": null,
            "height": null,
            "justify_content": null,
            "justify_items": null,
            "left": null,
            "margin": null,
            "max_height": null,
            "max_width": null,
            "min_height": null,
            "min_width": null,
            "object_fit": null,
            "object_position": null,
            "order": null,
            "overflow": null,
            "overflow_x": null,
            "overflow_y": null,
            "padding": null,
            "right": null,
            "top": null,
            "visibility": null,
            "width": null
          }
        },
        "0b7668f9f3a54ad3b1bfbb177448b680": {
          "model_module": "@jupyter-widgets/controls",
          "model_name": "ProgressStyleModel",
          "model_module_version": "1.5.0",
          "state": {
            "_model_module": "@jupyter-widgets/controls",
            "_model_module_version": "1.5.0",
            "_model_name": "ProgressStyleModel",
            "_view_count": null,
            "_view_module": "@jupyter-widgets/base",
            "_view_module_version": "1.2.0",
            "_view_name": "StyleView",
            "bar_color": null,
            "description_width": ""
          }
        },
        "b96dd90302d94392a7b7973dc3603fba": {
          "model_module": "@jupyter-widgets/base",
          "model_name": "LayoutModel",
          "model_module_version": "1.2.0",
          "state": {
            "_model_module": "@jupyter-widgets/base",
            "_model_module_version": "1.2.0",
            "_model_name": "LayoutModel",
            "_view_count": null,
            "_view_module": "@jupyter-widgets/base",
            "_view_module_version": "1.2.0",
            "_view_name": "LayoutView",
            "align_content": null,
            "align_items": null,
            "align_self": null,
            "border": null,
            "bottom": null,
            "display": null,
            "flex": null,
            "flex_flow": null,
            "grid_area": null,
            "grid_auto_columns": null,
            "grid_auto_flow": null,
            "grid_auto_rows": null,
            "grid_column": null,
            "grid_gap": null,
            "grid_row": null,
            "grid_template_areas": null,
            "grid_template_columns": null,
            "grid_template_rows": null,
            "height": null,
            "justify_content": null,
            "justify_items": null,
            "left": null,
            "margin": null,
            "max_height": null,
            "max_width": null,
            "min_height": null,
            "min_width": null,
            "object_fit": null,
            "object_position": null,
            "order": null,
            "overflow": null,
            "overflow_x": null,
            "overflow_y": null,
            "padding": null,
            "right": null,
            "top": null,
            "visibility": null,
            "width": null
          }
        },
        "e32cd013cc4a4c519c0ab820b666fb68": {
          "model_module": "@jupyter-widgets/controls",
          "model_name": "DescriptionStyleModel",
          "model_module_version": "1.5.0",
          "state": {
            "_model_module": "@jupyter-widgets/controls",
            "_model_module_version": "1.5.0",
            "_model_name": "DescriptionStyleModel",
            "_view_count": null,
            "_view_module": "@jupyter-widgets/base",
            "_view_module_version": "1.2.0",
            "_view_name": "StyleView",
            "description_width": ""
          }
        },
        "6cb4c841cb6c4c4f81080bf1d869097e": {
          "model_module": "@jupyter-widgets/controls",
          "model_name": "HBoxModel",
          "model_module_version": "1.5.0",
          "state": {
            "_dom_classes": [],
            "_model_module": "@jupyter-widgets/controls",
            "_model_module_version": "1.5.0",
            "_model_name": "HBoxModel",
            "_view_count": null,
            "_view_module": "@jupyter-widgets/controls",
            "_view_module_version": "1.5.0",
            "_view_name": "HBoxView",
            "box_style": "",
            "children": [
              "IPY_MODEL_f8eb2e4cb92e4327b498bf3346dc8f82",
              "IPY_MODEL_d9f6edcd916a46e0839e8a26231acb58",
              "IPY_MODEL_8e20629406944b0b8f726340e1c6ded1"
            ],
            "layout": "IPY_MODEL_58cf1c4256e94310ac007abe9961026c"
          }
        },
        "f8eb2e4cb92e4327b498bf3346dc8f82": {
          "model_module": "@jupyter-widgets/controls",
          "model_name": "HTMLModel",
          "model_module_version": "1.5.0",
          "state": {
            "_dom_classes": [],
            "_model_module": "@jupyter-widgets/controls",
            "_model_module_version": "1.5.0",
            "_model_name": "HTMLModel",
            "_view_count": null,
            "_view_module": "@jupyter-widgets/controls",
            "_view_module_version": "1.5.0",
            "_view_name": "HTMLView",
            "description": "",
            "description_tooltip": null,
            "layout": "IPY_MODEL_5b1b9e6019dd45559ad5389971869300",
            "placeholder": "​",
            "style": "IPY_MODEL_7efcf6f201cc42d18fcf34db31e33cd7",
            "value": "Downloading (…)cial_tokens_map.json: 100%"
          }
        },
        "d9f6edcd916a46e0839e8a26231acb58": {
          "model_module": "@jupyter-widgets/controls",
          "model_name": "FloatProgressModel",
          "model_module_version": "1.5.0",
          "state": {
            "_dom_classes": [],
            "_model_module": "@jupyter-widgets/controls",
            "_model_module_version": "1.5.0",
            "_model_name": "FloatProgressModel",
            "_view_count": null,
            "_view_module": "@jupyter-widgets/controls",
            "_view_module_version": "1.5.0",
            "_view_name": "ProgressView",
            "bar_style": "success",
            "description": "",
            "description_tooltip": null,
            "layout": "IPY_MODEL_4a45b584148740f6a66d3a2334a005e8",
            "max": 281,
            "min": 0,
            "orientation": "horizontal",
            "style": "IPY_MODEL_6aee9ed2f3a44b268de423e75b07626f",
            "value": 281
          }
        },
        "8e20629406944b0b8f726340e1c6ded1": {
          "model_module": "@jupyter-widgets/controls",
          "model_name": "HTMLModel",
          "model_module_version": "1.5.0",
          "state": {
            "_dom_classes": [],
            "_model_module": "@jupyter-widgets/controls",
            "_model_module_version": "1.5.0",
            "_model_name": "HTMLModel",
            "_view_count": null,
            "_view_module": "@jupyter-widgets/controls",
            "_view_module_version": "1.5.0",
            "_view_name": "HTMLView",
            "description": "",
            "description_tooltip": null,
            "layout": "IPY_MODEL_45cdfd3e5d6a490fb7201d0215f979c1",
            "placeholder": "​",
            "style": "IPY_MODEL_f7a7eabbbca94c9a87f39d5a8ba7c71c",
            "value": " 281/281 [00:00&lt;00:00, 26.5kB/s]"
          }
        },
        "58cf1c4256e94310ac007abe9961026c": {
          "model_module": "@jupyter-widgets/base",
          "model_name": "LayoutModel",
          "model_module_version": "1.2.0",
          "state": {
            "_model_module": "@jupyter-widgets/base",
            "_model_module_version": "1.2.0",
            "_model_name": "LayoutModel",
            "_view_count": null,
            "_view_module": "@jupyter-widgets/base",
            "_view_module_version": "1.2.0",
            "_view_name": "LayoutView",
            "align_content": null,
            "align_items": null,
            "align_self": null,
            "border": null,
            "bottom": null,
            "display": null,
            "flex": null,
            "flex_flow": null,
            "grid_area": null,
            "grid_auto_columns": null,
            "grid_auto_flow": null,
            "grid_auto_rows": null,
            "grid_column": null,
            "grid_gap": null,
            "grid_row": null,
            "grid_template_areas": null,
            "grid_template_columns": null,
            "grid_template_rows": null,
            "height": null,
            "justify_content": null,
            "justify_items": null,
            "left": null,
            "margin": null,
            "max_height": null,
            "max_width": null,
            "min_height": null,
            "min_width": null,
            "object_fit": null,
            "object_position": null,
            "order": null,
            "overflow": null,
            "overflow_x": null,
            "overflow_y": null,
            "padding": null,
            "right": null,
            "top": null,
            "visibility": null,
            "width": null
          }
        },
        "5b1b9e6019dd45559ad5389971869300": {
          "model_module": "@jupyter-widgets/base",
          "model_name": "LayoutModel",
          "model_module_version": "1.2.0",
          "state": {
            "_model_module": "@jupyter-widgets/base",
            "_model_module_version": "1.2.0",
            "_model_name": "LayoutModel",
            "_view_count": null,
            "_view_module": "@jupyter-widgets/base",
            "_view_module_version": "1.2.0",
            "_view_name": "LayoutView",
            "align_content": null,
            "align_items": null,
            "align_self": null,
            "border": null,
            "bottom": null,
            "display": null,
            "flex": null,
            "flex_flow": null,
            "grid_area": null,
            "grid_auto_columns": null,
            "grid_auto_flow": null,
            "grid_auto_rows": null,
            "grid_column": null,
            "grid_gap": null,
            "grid_row": null,
            "grid_template_areas": null,
            "grid_template_columns": null,
            "grid_template_rows": null,
            "height": null,
            "justify_content": null,
            "justify_items": null,
            "left": null,
            "margin": null,
            "max_height": null,
            "max_width": null,
            "min_height": null,
            "min_width": null,
            "object_fit": null,
            "object_position": null,
            "order": null,
            "overflow": null,
            "overflow_x": null,
            "overflow_y": null,
            "padding": null,
            "right": null,
            "top": null,
            "visibility": null,
            "width": null
          }
        },
        "7efcf6f201cc42d18fcf34db31e33cd7": {
          "model_module": "@jupyter-widgets/controls",
          "model_name": "DescriptionStyleModel",
          "model_module_version": "1.5.0",
          "state": {
            "_model_module": "@jupyter-widgets/controls",
            "_model_module_version": "1.5.0",
            "_model_name": "DescriptionStyleModel",
            "_view_count": null,
            "_view_module": "@jupyter-widgets/base",
            "_view_module_version": "1.2.0",
            "_view_name": "StyleView",
            "description_width": ""
          }
        },
        "4a45b584148740f6a66d3a2334a005e8": {
          "model_module": "@jupyter-widgets/base",
          "model_name": "LayoutModel",
          "model_module_version": "1.2.0",
          "state": {
            "_model_module": "@jupyter-widgets/base",
            "_model_module_version": "1.2.0",
            "_model_name": "LayoutModel",
            "_view_count": null,
            "_view_module": "@jupyter-widgets/base",
            "_view_module_version": "1.2.0",
            "_view_name": "LayoutView",
            "align_content": null,
            "align_items": null,
            "align_self": null,
            "border": null,
            "bottom": null,
            "display": null,
            "flex": null,
            "flex_flow": null,
            "grid_area": null,
            "grid_auto_columns": null,
            "grid_auto_flow": null,
            "grid_auto_rows": null,
            "grid_column": null,
            "grid_gap": null,
            "grid_row": null,
            "grid_template_areas": null,
            "grid_template_columns": null,
            "grid_template_rows": null,
            "height": null,
            "justify_content": null,
            "justify_items": null,
            "left": null,
            "margin": null,
            "max_height": null,
            "max_width": null,
            "min_height": null,
            "min_width": null,
            "object_fit": null,
            "object_position": null,
            "order": null,
            "overflow": null,
            "overflow_x": null,
            "overflow_y": null,
            "padding": null,
            "right": null,
            "top": null,
            "visibility": null,
            "width": null
          }
        },
        "6aee9ed2f3a44b268de423e75b07626f": {
          "model_module": "@jupyter-widgets/controls",
          "model_name": "ProgressStyleModel",
          "model_module_version": "1.5.0",
          "state": {
            "_model_module": "@jupyter-widgets/controls",
            "_model_module_version": "1.5.0",
            "_model_name": "ProgressStyleModel",
            "_view_count": null,
            "_view_module": "@jupyter-widgets/base",
            "_view_module_version": "1.2.0",
            "_view_name": "StyleView",
            "bar_color": null,
            "description_width": ""
          }
        },
        "45cdfd3e5d6a490fb7201d0215f979c1": {
          "model_module": "@jupyter-widgets/base",
          "model_name": "LayoutModel",
          "model_module_version": "1.2.0",
          "state": {
            "_model_module": "@jupyter-widgets/base",
            "_model_module_version": "1.2.0",
            "_model_name": "LayoutModel",
            "_view_count": null,
            "_view_module": "@jupyter-widgets/base",
            "_view_module_version": "1.2.0",
            "_view_name": "LayoutView",
            "align_content": null,
            "align_items": null,
            "align_self": null,
            "border": null,
            "bottom": null,
            "display": null,
            "flex": null,
            "flex_flow": null,
            "grid_area": null,
            "grid_auto_columns": null,
            "grid_auto_flow": null,
            "grid_auto_rows": null,
            "grid_column": null,
            "grid_gap": null,
            "grid_row": null,
            "grid_template_areas": null,
            "grid_template_columns": null,
            "grid_template_rows": null,
            "height": null,
            "justify_content": null,
            "justify_items": null,
            "left": null,
            "margin": null,
            "max_height": null,
            "max_width": null,
            "min_height": null,
            "min_width": null,
            "object_fit": null,
            "object_position": null,
            "order": null,
            "overflow": null,
            "overflow_x": null,
            "overflow_y": null,
            "padding": null,
            "right": null,
            "top": null,
            "visibility": null,
            "width": null
          }
        },
        "f7a7eabbbca94c9a87f39d5a8ba7c71c": {
          "model_module": "@jupyter-widgets/controls",
          "model_name": "DescriptionStyleModel",
          "model_module_version": "1.5.0",
          "state": {
            "_model_module": "@jupyter-widgets/controls",
            "_model_module_version": "1.5.0",
            "_model_name": "DescriptionStyleModel",
            "_view_count": null,
            "_view_module": "@jupyter-widgets/base",
            "_view_module_version": "1.2.0",
            "_view_name": "StyleView",
            "description_width": ""
          }
        }
      }
    }
  },
  "cells": [
    {
      "cell_type": "markdown",
      "metadata": {
        "id": "view-in-github",
        "colab_type": "text"
      },
      "source": [
        "<a href=\"https://colab.research.google.com/github/ymoslem/LLMs/blob/main/inference/Falcon-HuggingFace.ipynb\" target=\"_parent\"><img src=\"https://colab.research.google.com/assets/colab-badge.svg\" alt=\"Open In Colab\"/></a>"
      ]
    },
    {
      "cell_type": "markdown",
      "source": [
        "# Falcon LLM Huggging Face Transformers and bitsandbytes"
      ],
      "metadata": {
        "id": "fgFyxa-v-ERc"
      }
    },
    {
      "cell_type": "code",
      "source": [
        "import torch\n",
        "torch.cuda.get_device_name(0)"
      ],
      "metadata": {
        "colab": {
          "base_uri": "https://localhost:8080/",
          "height": 35
        },
        "id": "cnv_NadYnHP5",
        "outputId": "29b0e3f4-7670-479d-b51b-69146e183682"
      },
      "execution_count": 1,
      "outputs": [
        {
          "output_type": "execute_result",
          "data": {
            "text/plain": [
              "'NVIDIA A100-SXM4-40GB'"
            ],
            "application/vnd.google.colaboratory.intrinsic+json": {
              "type": "string"
            }
          },
          "metadata": {},
          "execution_count": 1
        }
      ]
    },
    {
      "cell_type": "code",
      "source": [
        "!pip3 install --upgrade transformers accelerate einops bitsandbytes -q &> null"
      ],
      "metadata": {
        "id": "6Gn0eoa9uQZh"
      },
      "execution_count": 2,
      "outputs": []
    },
    {
      "cell_type": "code",
      "source": [
        "# [Optional] Save the models to a custom directory\n",
        "\n",
        "# !mkdir -p \"/content/drive/MyDrive/models/\"\n",
        "model_cache_dir = \"/content/drive/MyDrive/models/\"\n",
        "!ls $model_cache_dir"
      ],
      "metadata": {
        "id": "KX5K4ruiUZSZ"
      },
      "execution_count": null,
      "outputs": []
    },
    {
      "cell_type": "code",
      "execution_count": 4,
      "metadata": {
        "id": "v5DE1yBbqX2H"
      },
      "outputs": [],
      "source": [
        "# Option 1: Run with float16\n",
        "# Load the model\n",
        "\n",
        "# Remove this line to run this cell or try the next cell\n",
        "%%script false --no-raise-error\n",
        "\n",
        "from transformers import AutoModelForCausalLM, AutoTokenizer\n",
        "import torch\n",
        "\n",
        "model_name = \"tiiuae/falcon-7b-instruct\"\n",
        "\n",
        "model =  AutoModelForCausalLM.from_pretrained(model_name,\n",
        "                                         torch_dtype=torch.float16,\n",
        "                                         low_cpu_mem_usage=True,\n",
        "                                         cache_dir = model_cache_dir,\n",
        "                                         trust_remote_code=True)\n",
        "model = model.half()\n",
        "model = model.to(\"cuda\")"
      ]
    },
    {
      "cell_type": "code",
      "source": [
        "# Option 2: Run with BitsAndBytes\n",
        "# Load the model \"tiiuae/falcon-40b-instruct\" (be patient!)\n",
        "\n",
        "from transformers import AutoModelForCausalLM, AutoTokenizer, BitsAndBytesConfig\n",
        "\n",
        "# model_name = \"tiiuae/falcon-7b-instruct\"\n",
        "model_name = \"tiiuae/falcon-40b-instruct\"\n",
        "\n",
        "double_quant_config = BitsAndBytesConfig(\n",
        "    load_in_4bit=True,\n",
        "    bnb_4bit_use_double_quant=True,\n",
        ")\n",
        "\n",
        "model = AutoModelForCausalLM.from_pretrained(model_name,\n",
        "                                             quantization_config=double_quant_config,\n",
        "                                             low_cpu_mem_usage=True,\n",
        "                                             cache_dir=model_cache_dir,\n",
        "                                             trust_remote_code=True\n",
        "                                             )"
      ],
      "metadata": {
        "colab": {
          "base_uri": "https://localhost:8080/",
          "height": 49,
          "referenced_widgets": [
            "72b3cb47ce794901a0141b9b50238502",
            "9caf1e3d3f13470682f5692af109f0e0",
            "171a8fca63f347708044fbb28bb869cc",
            "d17a737a76fd4a6393bb775cb6e53f55",
            "d4662f53875c47b4a9ff5a39822cd546",
            "3b5a04a954754f089a39b9bbcb2d131b",
            "2364af64995e47179850641f278c415a",
            "1e0c2539acd14a4dbce29f855153989b",
            "45dd47a0163049919498f88dcc6100e9",
            "8287039be5f745859848dec2cce5390a",
            "89fd2da402844df69f825620631ce50d"
          ]
        },
        "id": "NbxuvcI6j__k",
        "outputId": "cf834158-f18b-4e05-f8e3-990cb4c8ed07"
      },
      "execution_count": 5,
      "outputs": [
        {
          "output_type": "display_data",
          "data": {
            "text/plain": [
              "Loading checkpoint shards:   0%|          | 0/9 [00:00<?, ?it/s]"
            ],
            "application/vnd.jupyter.widget-view+json": {
              "version_major": 2,
              "version_minor": 0,
              "model_id": "72b3cb47ce794901a0141b9b50238502"
            }
          },
          "metadata": {}
        }
      ]
    },
    {
      "cell_type": "code",
      "source": [
        "# Memory Used\n",
        "# Output for Falcon 40B on A100-SXM4-40GB with BitsAndBytes\n",
        "# Memory allocated: 20.6 GB\n",
        "# Memory reserved: 21.4 GB\n",
        "\n",
        "print('Memory allocated:', round(torch.cuda.memory_allocated(0)/1024**3,1), 'GB')\n",
        "print('Memory reserved:   ', round(torch.cuda.memory_reserved(0)/1024**3,1), 'GB')"
      ],
      "metadata": {
        "colab": {
          "base_uri": "https://localhost:8080/"
        },
        "id": "hyTPK1T3nkXz",
        "outputId": "47e70732-b587-490e-c505-0e26ec07da64"
      },
      "execution_count": 6,
      "outputs": [
        {
          "output_type": "stream",
          "name": "stdout",
          "text": [
            "Memory allocated: 20.6 GB\n",
            "Memory reserved:    21.4 GB\n"
          ]
        }
      ]
    },
    {
      "cell_type": "code",
      "source": [
        "# left-side padding is required for auto-regressive models for batch processing\n",
        "\n",
        "tokenizer = AutoTokenizer.from_pretrained(model_name, padding_side=\"left\")\n",
        "tokenizer.pad_token = tokenizer.eos_token"
      ],
      "metadata": {
        "id": "wiq1YbmYO-pm",
        "colab": {
          "base_uri": "https://localhost:8080/",
          "height": 113,
          "referenced_widgets": [
            "81b8745365234df0880521c47891f38d",
            "9e64ef3969614338973484373e03a9cc",
            "3c694009a55e40f0953bf237b9290d93",
            "d49ae011edf74fa3bdb98c6f5f3c6a5e",
            "3df25dbf85b349f78c953b34db1453e0",
            "578f5d445db548d4a7a548a89d40b6e5",
            "44c85316df144307a956fb41339958ac",
            "db4dca7d65964a47a7854f3774ea6da3",
            "302cd9580b87494981c924d6703b5b2b",
            "fdf539674b4949e49088c8ae9609ddb7",
            "1970a1ba5395483098db53ad4a7cbb00",
            "3c9aedf16c7b440db0758b1716ec53aa",
            "e8b4c7074b6b4021aaf373d5c4a29289",
            "d244a8ba3a1040dd93caa74a0eca8795",
            "1d86aa894c1a46429915b31ad784634d",
            "f122a5139cc344b08d31a94bdd0c901a",
            "6b9845b8982d48cab4320c4329ff002e",
            "ccc486c8434d4f68978003f395ca0a72",
            "f558114e217a4962ad67fe1c7210aadb",
            "0b7668f9f3a54ad3b1bfbb177448b680",
            "b96dd90302d94392a7b7973dc3603fba",
            "e32cd013cc4a4c519c0ab820b666fb68",
            "6cb4c841cb6c4c4f81080bf1d869097e",
            "f8eb2e4cb92e4327b498bf3346dc8f82",
            "d9f6edcd916a46e0839e8a26231acb58",
            "8e20629406944b0b8f726340e1c6ded1",
            "58cf1c4256e94310ac007abe9961026c",
            "5b1b9e6019dd45559ad5389971869300",
            "7efcf6f201cc42d18fcf34db31e33cd7",
            "4a45b584148740f6a66d3a2334a005e8",
            "6aee9ed2f3a44b268de423e75b07626f",
            "45cdfd3e5d6a490fb7201d0215f979c1",
            "f7a7eabbbca94c9a87f39d5a8ba7c71c"
          ]
        },
        "outputId": "79285e16-a6d5-425d-e71b-6353e994d0a4"
      },
      "execution_count": 7,
      "outputs": [
        {
          "output_type": "display_data",
          "data": {
            "text/plain": [
              "Downloading (…)okenizer_config.json:   0%|          | 0.00/220 [00:00<?, ?B/s]"
            ],
            "application/vnd.jupyter.widget-view+json": {
              "version_major": 2,
              "version_minor": 0,
              "model_id": "81b8745365234df0880521c47891f38d"
            }
          },
          "metadata": {}
        },
        {
          "output_type": "display_data",
          "data": {
            "text/plain": [
              "Downloading (…)/main/tokenizer.json:   0%|          | 0.00/2.73M [00:00<?, ?B/s]"
            ],
            "application/vnd.jupyter.widget-view+json": {
              "version_major": 2,
              "version_minor": 0,
              "model_id": "3c9aedf16c7b440db0758b1716ec53aa"
            }
          },
          "metadata": {}
        },
        {
          "output_type": "display_data",
          "data": {
            "text/plain": [
              "Downloading (…)cial_tokens_map.json:   0%|          | 0.00/281 [00:00<?, ?B/s]"
            ],
            "application/vnd.jupyter.widget-view+json": {
              "version_major": 2,
              "version_minor": 0,
              "model_id": "6cb4c841cb6c4c4f81080bf1d869097e"
            }
          },
          "metadata": {}
        }
      ]
    },
    {
      "cell_type": "markdown",
      "source": [
        "## Example 1: Translation"
      ],
      "metadata": {
        "id": "ElJbrPDqOjYP"
      }
    },
    {
      "cell_type": "code",
      "source": [
        "# Create the translation prompts\n",
        "\n",
        "src_lang = \"Spanish\"\n",
        "tgt_lang = \"English\"\n",
        "\n",
        "\n",
        "# For BLOOM, not always good for zero-shot translation, can be good with Falcon\n",
        "prompt_a = f\"\"\"{src_lang}: Estas historias de éxito atenuaron los temores de cambio y crearon inclinaciones positivas para el cambio en el futuro.\n",
        "{tgt_lang}:\"\"\"\n",
        "\n",
        "# For BLOOM, not good at all for zero-shot translation, can be good with Falcon\n",
        "prompt_b = f\"\"\"Translate the following text from {src_lang} to {tgt_lang}:\n",
        "Estas historias de éxito atenuaron los temores de cambio y crearon inclinaciones positivas para el cambio en el futuro.\"\"\"\n",
        "\n",
        "# For BLOOM, the best prompt for zero-shot translation, can be good with Falcon\n",
        "prompt_c = f\"\"\"Translate the following text from {src_lang} to {tgt_lang}:\n",
        "{src_lang}: Estas historias de éxito atenuaron los temores de cambio y crearon inclinaciones positivas para el cambio en el futuro.\n",
        "{tgt_lang}:\"\"\"\n",
        "\n",
        "# One-shot prompt, including one fuzzy match, can be good with Falcon\n",
        "prompt_oneshot = f\"\"\"{src_lang}: Estas historias de éxito atenuaron los temores de cambio.\n",
        "{tgt_lang}: Such success stories alleviated fears of change.\n",
        "{src_lang}: Estas historias de éxito atenuaron los temores de cambio y crearon inclinaciones positivas para el cambio en el futuro.\n",
        "{tgt_lang}:\"\"\"\n",
        "\n",
        "# Add the prompts as a list\n",
        "prompts = [prompt_a, prompt_b, prompt_c, prompt_oneshot]\n"
      ],
      "metadata": {
        "id": "9eswf87eGahc"
      },
      "execution_count": 31,
      "outputs": []
    },
    {
      "cell_type": "code",
      "source": [
        "# Tokenize the prompts\n",
        "\n",
        "import torch\n",
        "\n",
        "device = torch.device(\"cuda:0\")\n",
        "\n",
        "input_ids = tokenizer(prompts, return_tensors=\"pt\", padding=True).input_ids.to(device)\n",
        "\n",
        "print(*prompts, sep=\"\\n\\n\", end=\"\\n\\n\")\n",
        "print(input_ids[0])\n"
      ],
      "metadata": {
        "colab": {
          "base_uri": "https://localhost:8080/"
        },
        "id": "dgbqERMVwPaZ",
        "outputId": "d40ff33a-a7bf-4c2e-e0b3-a0ce5d714f73"
      },
      "execution_count": 32,
      "outputs": [
        {
          "output_type": "stream",
          "name": "stdout",
          "text": [
            "Spanish: Estas historias de éxito atenuaron los temores de cambio y crearon inclinaciones positivas para el cambio en el futuro.\n",
            "English:\n",
            "\n",
            "Translate the following text from Spanish to English:\n",
            "Estas historias de éxito atenuaron los temores de cambio y crearon inclinaciones positivas para el cambio en el futuro.\n",
            "\n",
            "Translate the following text from Spanish to English:\n",
            "Spanish: Estas historias de éxito atenuaron los temores de cambio y crearon inclinaciones positivas para el cambio en el futuro.\n",
            "English:\n",
            "\n",
            "Spanish: Estas historias de éxito atenuaron los temores de cambio.\n",
            "English: Such success stories alleviated fears of change.\n",
            "Spanish: Estas historias de éxito atenuaron los temores de cambio y crearon inclinaciones positivas para el cambio en el futuro.\n",
            "English:\n",
            "\n",
            "tensor([   11,    11,    11,    11,    11,    11,    11,    11,    11,    11,\n",
            "           11,    11,    11,    11,    11,    11,    11,    11,    11,    11,\n",
            "           11,    11,    11,    11,    11,    11,    11,    11,    11,    11,\n",
            "        44462,    37,  4349,   277,  3857,  3761,   336, 50538, 59110,    96,\n",
            "         6193,  1817,  1534,  2092,   336, 30854,   291,  1024,  6193,  9727,\n",
            "          242,  7786,  9709, 22855,  2179,   797, 30854,   445,   797, 28867,\n",
            "           25,   193, 19656,    37], device='cuda:0')\n"
          ]
        }
      ]
    },
    {
      "cell_type": "code",
      "source": [
        "# Greedy search\n",
        "\n",
        "sample_outputs = model.generate(\n",
        "                                input_ids,\n",
        "                                do_sample=False,\n",
        "                                max_new_tokens=100,\n",
        "                                num_return_sequences=1,\n",
        "                                pad_token_id=tokenizer.eos_token_id\n",
        "                                )\n",
        "\n",
        "generated_texts = tokenizer.batch_decode(sample_outputs[:, input_ids.shape[1]:], skip_special_tokens=True)\n",
        "\n",
        "print(\"\\nTranslations:\\n\")\n",
        "translations = [text.strip().split(\"\\n\")[0].strip() for text in generated_texts]\n",
        "print(*translations, sep=\"\\n\")"
      ],
      "metadata": {
        "colab": {
          "base_uri": "https://localhost:8080/"
        },
        "id": "uTLdboXuyhfS",
        "outputId": "8bfa1b32-f508-475b-c517-4f00a35d95c8"
      },
      "execution_count": 16,
      "outputs": [
        {
          "output_type": "stream",
          "name": "stdout",
          "text": [
            "\n",
            "Translations:\n",
            "\n",
            "These success stories alleviated fears of change and created positive inclinations for change in the future.\n",
            "These success stories have eased the fears of change and created positive inclinations for change in the future.\n",
            "These success stories have eased the fears of change and created positive inclinations for change in the future.\n",
            "Such success stories alleviated fears of change and created positive inclinations for change in the future.\n"
          ]
        }
      ]
    },
    {
      "cell_type": "code",
      "source": [
        "# top-p sampling\n",
        "\n",
        "sample_outputs = model.generate(\n",
        "                                input_ids,\n",
        "                                do_sample=True,\n",
        "                                top_p=0.9,\n",
        "                                max_new_tokens=100,\n",
        "                                num_return_sequences=1,\n",
        "                                pad_token_id=tokenizer.eos_token_id\n",
        "                                )\n",
        "\n",
        "generated_texts = tokenizer.batch_decode(sample_outputs[:, input_ids.shape[1]:], skip_special_tokens=True)\n",
        "\n",
        "print(\"\\nTranslations:\\n\")\n",
        "translations = [text.strip().split(\"\\n\")[0].strip() for text in generated_texts]\n",
        "print(*translations, sep=\"\\n\")"
      ],
      "metadata": {
        "id": "4le6Ha9a5Mhz",
        "colab": {
          "base_uri": "https://localhost:8080/"
        },
        "outputId": "e8d8a97c-db65-4d12-94c7-28ac93e74c04"
      },
      "execution_count": 27,
      "outputs": [
        {
          "output_type": "stream",
          "name": "stdout",
          "text": [
            "\n",
            "Translations:\n",
            "\n",
            "These success stories mitigated the fear of change and created positive inclinations towards change in the future.\n",
            "These success stories lessened the fears of change and created positive inclinations towards change in the future.\n",
            "These success stories have diminished the fear of change and created positive inclinations for change in the future.\n",
            "Such success stories alleviated fears of change and created positive inclinations towards future change.\n"
          ]
        }
      ]
    },
    {
      "cell_type": "markdown",
      "source": [
        "## Example 2: Summarization"
      ],
      "metadata": {
        "id": "HJ1wqBuUF9aE"
      }
    },
    {
      "cell_type": "code",
      "source": [
        "# Create summarization prompts\n",
        "\n",
        "query = f\"Summarize the following paper:\"\n",
        "\n",
        "abstracts = [\n",
        "    \"\"\"Deep neural nets with a large number of parameters are very powerful machine learning systems. However, overfitting is a serious problem in such networks. Large networks are also slow to use, making it difficult to deal with overfitting by combining the predictions of many different large neural nets at test time. Dropout is a technique for addressing this problem. The key idea is to randomly drop units (along with their connections) from the neural network during training. This prevents units from co-adapting too much. During training, dropout samples from an exponential number of different \"thinned\" networks. At test time, it is easy to approximate the effect of averaging the predictions of all these thinned networks by simply using a single unthinned network that has smaller weights. This significantly reduces overfitting and gives major improvements over other regularization methods. We show that dropout improves the performance of neural networks on supervised learning tasks in vision, speech recognition, document classification and computational biology, obtaining state-of-the-art results on many benchmark data sets.\"\"\",\n",
        "    \"\"\"Consistency is a key requirement of high-quality translation. It is especially important to adhere to pre-approved terminology and adapt to corrected translations in domain-specific projects. Machine translation (MT) has achieved significant progress in the area of domain adaptation. However, real-time adaptation remains challenging. Large-scale language models (LLMs) have recently shown interesting capabilities of in-context learning, where they learn to replicate certain input-output text generation patterns, without further fine-tuning. By feeding an LLM at inference time with a prompt that consists of a list of translation pairs, it can then simulate the domain and style characteristics. This work aims to investigate how we can utilize in-context learning to improve real-time adaptive MT. Our extensive experiments show promising results at translation time. For example, LLMs can adapt to a set of in-domain sentence pairs and/or terminology while translating a new sentence. We observe that the translation quality with few-shot in-context learning can surpass that of strong encoder-decoder MT systems, especially for high-resource languages. Moreover, we investigate whether we can combine MT from strong encoder-decoder models with fuzzy matches, which can further improve translation quality, especially for less supported languages. We conduct our experiments across five diverse language pairs, namely English-to-Arabic (EN-AR), English-to-Chinese (EN-ZH), English-to-French (EN-FR), English-to-Kinyarwanda (EN-RW), and English-to-Spanish (EN-ES).\"\"\"\n",
        "    ]\n",
        "\n",
        "authors = [\"Srivastava at al. (2014)\",\n",
        "           \"Moslem et al. (2023)\"]\n",
        "\n",
        "summarization_prompts = [f\"{query}\\nAbstract: {abstract}\\nSummary: {author}\" for abstract, author in zip(abstracts, authors)]\n",
        "\n",
        "print(*summarization_prompts, sep=\"\\n\\n\")"
      ],
      "metadata": {
        "colab": {
          "base_uri": "https://localhost:8080/"
        },
        "id": "6RXBfiOXF_PU",
        "outputId": "93529ad7-d300-4ea6-819d-7db7de456d47"
      },
      "execution_count": 18,
      "outputs": [
        {
          "output_type": "stream",
          "name": "stdout",
          "text": [
            "Summarize the following paper:\n",
            "Abstract: Deep neural nets with a large number of parameters are very powerful machine learning systems. However, overfitting is a serious problem in such networks. Large networks are also slow to use, making it difficult to deal with overfitting by combining the predictions of many different large neural nets at test time. Dropout is a technique for addressing this problem. The key idea is to randomly drop units (along with their connections) from the neural network during training. This prevents units from co-adapting too much. During training, dropout samples from an exponential number of different \"thinned\" networks. At test time, it is easy to approximate the effect of averaging the predictions of all these thinned networks by simply using a single unthinned network that has smaller weights. This significantly reduces overfitting and gives major improvements over other regularization methods. We show that dropout improves the performance of neural networks on supervised learning tasks in vision, speech recognition, document classification and computational biology, obtaining state-of-the-art results on many benchmark data sets.\n",
            "Summary: Srivastava at al. (2014)\n",
            "\n",
            "Summarize the following paper:\n",
            "Abstract: Consistency is a key requirement of high-quality translation. It is especially important to adhere to pre-approved terminology and adapt to corrected translations in domain-specific projects. Machine translation (MT) has achieved significant progress in the area of domain adaptation. However, real-time adaptation remains challenging. Large-scale language models (LLMs) have recently shown interesting capabilities of in-context learning, where they learn to replicate certain input-output text generation patterns, without further fine-tuning. By feeding an LLM at inference time with a prompt that consists of a list of translation pairs, it can then simulate the domain and style characteristics. This work aims to investigate how we can utilize in-context learning to improve real-time adaptive MT. Our extensive experiments show promising results at translation time. For example, LLMs can adapt to a set of in-domain sentence pairs and/or terminology while translating a new sentence. We observe that the translation quality with few-shot in-context learning can surpass that of strong encoder-decoder MT systems, especially for high-resource languages. Moreover, we investigate whether we can combine MT from strong encoder-decoder models with fuzzy matches, which can further improve translation quality, especially for less supported languages. We conduct our experiments across five diverse language pairs, namely English-to-Arabic (EN-AR), English-to-Chinese (EN-ZH), English-to-French (EN-FR), English-to-Kinyarwanda (EN-RW), and English-to-Spanish (EN-ES).\n",
            "Summary: Moslem et al. (2023)\n"
          ]
        }
      ]
    },
    {
      "cell_type": "code",
      "source": [
        "# Tokenize the prompts\n",
        "\n",
        "import torch\n",
        "\n",
        "device = torch.device(\"cuda:0\")\n",
        "\n",
        "summarization_input_ids = tokenizer(summarization_prompts, return_tensors=\"pt\", padding=True).input_ids.to(device)\n",
        "\n",
        "print(*summarization_prompts, sep=\"\\n\\n\", end=\"\\n\\n\")\n",
        "print(summarization_input_ids[0])"
      ],
      "metadata": {
        "colab": {
          "base_uri": "https://localhost:8080/"
        },
        "id": "nZtJRJ6rJ1A6",
        "outputId": "777a360a-8d06-4ae3-d3d6-d9e5c485f77c"
      },
      "execution_count": 22,
      "outputs": [
        {
          "output_type": "stream",
          "name": "stdout",
          "text": [
            "Summarize the following paper:\n",
            "Abstract: Deep neural nets with a large number of parameters are very powerful machine learning systems. However, overfitting is a serious problem in such networks. Large networks are also slow to use, making it difficult to deal with overfitting by combining the predictions of many different large neural nets at test time. Dropout is a technique for addressing this problem. The key idea is to randomly drop units (along with their connections) from the neural network during training. This prevents units from co-adapting too much. During training, dropout samples from an exponential number of different \"thinned\" networks. At test time, it is easy to approximate the effect of averaging the predictions of all these thinned networks by simply using a single unthinned network that has smaller weights. This significantly reduces overfitting and gives major improvements over other regularization methods. We show that dropout improves the performance of neural networks on supervised learning tasks in vision, speech recognition, document classification and computational biology, obtaining state-of-the-art results on many benchmark data sets.\n",
            "Summary: Srivastava at al. (2014)\n",
            "\n",
            "Summarize the following paper:\n",
            "Abstract: Consistency is a key requirement of high-quality translation. It is especially important to adhere to pre-approved terminology and adapt to corrected translations in domain-specific projects. Machine translation (MT) has achieved significant progress in the area of domain adaptation. However, real-time adaptation remains challenging. Large-scale language models (LLMs) have recently shown interesting capabilities of in-context learning, where they learn to replicate certain input-output text generation patterns, without further fine-tuning. By feeding an LLM at inference time with a prompt that consists of a list of translation pairs, it can then simulate the domain and style characteristics. This work aims to investigate how we can utilize in-context learning to improve real-time adaptive MT. Our extensive experiments show promising results at translation time. For example, LLMs can adapt to a set of in-domain sentence pairs and/or terminology while translating a new sentence. We observe that the translation quality with few-shot in-context learning can surpass that of strong encoder-decoder MT systems, especially for high-resource languages. Moreover, we investigate whether we can combine MT from strong encoder-decoder models with fuzzy matches, which can further improve translation quality, especially for less supported languages. We conduct our experiments across five diverse language pairs, namely English-to-Arabic (EN-AR), English-to-Chinese (EN-ZH), English-to-French (EN-FR), English-to-Kinyarwanda (EN-RW), and English-to-Spanish (EN-ES).\n",
            "Summary: Moslem et al. (2023)\n",
            "\n",
            "tensor([   11,    11,    11,    11,    11,    11,    11,    11,    11,    11,\n",
            "           11,    11,    11,    11,    11,    11,    11,    11,    11,    11,\n",
            "           11,    11,    11,    11,    11,    11,    11,    11,    11,    11,\n",
            "           11,    11,    11,    11,    11,    11,    11,    11,    11,    11,\n",
            "           11,    11,    11,    11,    11,    11,    11,    11,    11,    11,\n",
            "           11,    11,    11,    11,    11,    11,    11,    11,    11,    11,\n",
            "           11,    11,    11,    11,    11,    11,    11,    11,    11,    11,\n",
            "           11,    11,    11,    11,    11,    11,    11,    11,    11,    11,\n",
            "           11,    11,    11,    11,    11,    11,    11,    11,    11,    11,\n",
            "           11,    11,    11,    11,    11,    11,    11,    11,    11,    11,\n",
            "           11,    11,    11,    11,    11,    11,    11,    11,    11,    11,\n",
            "           11,    11,    11, 45630,   270,   907,   248,  1863,  2856,    37,\n",
            "          193, 12053,    37, 12604, 23970, 37099,   335,   241,  1902,  1386,\n",
            "          275,  9038,   362,   829,  4452,  3414,  2860,  2876,    25,  2071,\n",
            "           23,   648, 34082,   304,   241,  3238,  1375,   272,   963,  8052,\n",
            "           25, 13232,  8052,   362,   614,  3360,   271,   745,    23,  1591,\n",
            "          334,  2490,   271,  2066,   335,   648, 34082,   431, 18807,   248,\n",
            "        19793,   275,   860,  1104,  1902, 23970, 37099,   388,  1318,   601,\n",
            "           25, 17631,   351,   304,   241,  7380,   312, 14579,   414,  1375,\n",
            "           25,   390,  1999,  2163,   304,   271, 20975,  4058,  6398,   204,\n",
            "           19, 30586,   335,   525,  8852,    20,   427,   248, 23970,  3041,\n",
            "         1365,  2555,    25,   735, 16431,  6398,   427,   739,    24, 45909,\n",
            "          263,   892,   866,    25,  6599,  2555,    23,  4058,   351,  9041,\n",
            "          427,   267, 42665,  1386,   275,  1104,   204,    13,   420, 14092,\n",
            "           13,  8052,    25,  1570,  1318,   601,    23,   334,   304,  1833,\n",
            "          271, 32029,   248,  1334,   275, 34142,   248, 19793,   275,   455,\n",
            "          783,   281, 14092,  8052,   431,  2495,  1241,   241,  2278, 52113,\n",
            "        14092,  3041,   325,   504,  5552, 18643,    25,   735,  6302, 12767,\n",
            "          648, 34082,   273,  3483,  2084, 10421,   648,   599,  3000,  1587,\n",
            "         4300,    25,   703,  1049,   325,  4058,   351, 15516,   248,  2644,\n",
            "          275, 23970,  8052,   313, 35325,  2860,  6784,   272,  5356,    23,\n",
            "         7193,  9602,    23,  3268, 17873,   273, 30734, 18649,    23, 16503,\n",
            "         1592,    24,  1487,    24,  1410,    24,   403,  2196,   313,   860,\n",
            "        21577,  1211,  5802,    25,   193, 19433,    37,   302,   974,   457,\n",
            "         3269,   388,   339,    25,   204,    19,   626,    31,    20],\n",
            "       device='cuda:0')\n"
          ]
        }
      ]
    },
    {
      "cell_type": "code",
      "source": [
        "# Greedy Search\n",
        "sample_outputs = model.generate(\n",
        "                                summarization_input_ids,\n",
        "                                do_sample=False,\n",
        "                                max_new_tokens=200,\n",
        "                                num_return_sequences=1,\n",
        "                                pad_token_id=tokenizer.eos_token_id\n",
        "                                )\n",
        "\n",
        "generated_texts = tokenizer.batch_decode(sample_outputs[:, summarization_input_ids.shape[1]:], skip_special_tokens=True)\n",
        "\n",
        "print(\"\\nSummarizations:\\n\")\n",
        "summarizations = [text.strip().split(\"\\n\")[0].strip() for text in generated_texts]\n",
        "print(*summarizations, sep=\"\\n\")"
      ],
      "metadata": {
        "colab": {
          "base_uri": "https://localhost:8080/"
        },
        "id": "GUsR9jjlJj8k",
        "outputId": "f7bfe556-8b4a-4049-9e5a-c68fa38aafdd"
      },
      "execution_count": 24,
      "outputs": [
        {
          "output_type": "stream",
          "name": "stdout",
          "text": [
            "\n",
            "Summarizations:\n",
            "\n",
            "proposed the use of dropout as a regularization technique for deep neural networks. The idea is to randomly drop units (along with their connections) from the neural network during training. This prevents units from co-adapting too much. During training, dropout samples from an exponential number of different \"thinned\" networks. At test time, it is easy to approximate the effect of averaging the predictions of all these thinned networks by simply using a single unthinned network that has smaller weights. This significantly reduces overfitting and gives major improvements over other regularization methods. The authors show that dropout improves the performance of neural networks on supervised learning tasks in vision, speech recognition, document classification and computational biology, obtaining state-of-the-art results on many benchmark data sets.\n",
            "propose a new approach to real-time adaptive machine translation (MT) using in-context learning. They use large-scale language models (LLMs) to simulate the domain and style characteristics of the input text. They feed the LLM with a prompt that consists of a list of translation pairs, and the LLM can then generate translations that are consistent with the input text. They conduct extensive experiments across five diverse language pairs and observe that the translation quality with few-shot in-context learning can surpass that of strong encoder-decoder MT systems, especially for high-resource languages. They also investigate whether they can combine MT from strong encoder-decoder models with fuzzy matches, which can further improve translation quality, especially for less supported languages. Overall, their work shows promising results for real-time adaptive MT.\n"
          ]
        }
      ]
    },
    {
      "cell_type": "code",
      "source": [
        "final_outputs = [f\"{author} {output}\" for author, output in zip(authors, summarizations)]\n",
        "\n",
        "print(*final_outputs, sep=\"\\n\\n\")"
      ],
      "metadata": {
        "colab": {
          "base_uri": "https://localhost:8080/"
        },
        "id": "U6IGX-34No79",
        "outputId": "86e5a80a-0d2e-4f70-a0f6-3e57abcd732d"
      },
      "execution_count": 30,
      "outputs": [
        {
          "output_type": "stream",
          "name": "stdout",
          "text": [
            "Srivastava at al. (2014) proposed the use of dropout as a regularization technique for deep neural networks. The idea is to randomly drop units (along with their connections) from the neural network during training. This prevents units from co-adapting too much. During training, dropout samples from an exponential number of different \"thinned\" networks. At test time, it is easy to approximate the effect of averaging the predictions of all these thinned networks by simply using a single unthinned network that has smaller weights. This significantly reduces overfitting and gives major improvements over other regularization methods. The authors show that dropout improves the performance of neural networks on supervised learning tasks in vision, speech recognition, document classification and computational biology, obtaining state-of-the-art results on many benchmark data sets.\n",
            "\n",
            "Moslem et al. (2023) propose a new approach to real-time adaptive machine translation (MT) using in-context learning. They use large-scale language models (LLMs) to simulate the domain and style characteristics of the input text. They feed the LLM with a prompt that consists of a list of translation pairs, and the LLM can then generate translations that are consistent with the input text. They conduct extensive experiments across five diverse language pairs and observe that the translation quality with few-shot in-context learning can surpass that of strong encoder-decoder MT systems, especially for high-resource languages. They also investigate whether they can combine MT from strong encoder-decoder models with fuzzy matches, which can further improve translation quality, especially for less supported languages. Overall, their work shows promising results for real-time adaptive MT.\n"
          ]
        }
      ]
    }
  ]
}